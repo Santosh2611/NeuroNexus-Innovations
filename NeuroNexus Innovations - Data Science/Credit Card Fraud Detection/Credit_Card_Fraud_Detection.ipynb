{
  "nbformat": 4,
  "nbformat_minor": 0,
  "metadata": {
    "colab": {
      "provenance": []
    },
    "kernelspec": {
      "name": "python3",
      "display_name": "Python 3"
    },
    "language_info": {
      "name": "python"
    }
  },
  "cells": [
    {
      "cell_type": "markdown",
      "source": [
        "Dataset: https://www.kaggle.com/datasets/mlg-ulb/creditcardfraud\n",
        "\n",
        "The provided code is a Python script that performs the following tasks:"
      ],
      "metadata": {
        "id": "WokO-RX7zLBO"
      }
    },
    {
      "cell_type": "code",
      "execution_count": 1,
      "metadata": {
        "colab": {
          "base_uri": "https://localhost:8080/"
        },
        "id": "LQ9q4YEYhqXS",
        "outputId": "05a3d1a2-9d01-44f6-dbbb-5ad8ebbf15ef"
      },
      "outputs": [
        {
          "output_type": "stream",
          "name": "stdout",
          "text": [
            "Drive already mounted at /content/drive; to attempt to forcibly remount, call drive.mount(\"/content/drive\", force_remount=True).\n"
          ]
        }
      ],
      "source": [
        "import pandas as pd\n",
        "from imblearn.over_sampling import SMOTE\n",
        "from sklearn.model_selection import train_test_split, cross_val_score\n",
        "from sklearn.preprocessing import StandardScaler\n",
        "from sklearn.linear_model import LogisticRegression\n",
        "from sklearn.ensemble import RandomForestClassifier\n",
        "from sklearn.naive_bayes import GaussianNB\n",
        "from sklearn.tree import DecisionTreeClassifier\n",
        "from sklearn.neighbors import KNeighborsClassifier\n",
        "from sklearn.svm import SVC\n",
        "# from sklearn.metrics import classification_report, confusion_matrix #plot_precision_recall_curve, plot_roc_curve\n",
        "from sklearn.metrics import classification_report, confusion_matrix#, RocCurveDisplay\n",
        "# import scikitplot as skplt\n",
        "# import matplotlib.pyplot as plt\n",
        "from google.colab import drive\n",
        "drive.mount('/content/drive')"
      ]
    },
    {
      "cell_type": "markdown",
      "source": [
        "1. **Data Loading and Preprocessing:**\n",
        "   - Imports necessary libraries such as `pandas` for data manipulation and `train_test_split` from `sklearn.model_selection` for splitting the dataset.\n",
        "   - Defines a function `load_data(file_path)` to load the dataset from a CSV file using pandas.\n",
        "   - Defines a function `normalize_data(data)` to normalize the data by applying Standard Scaling and dropping unnecessary columns."
      ],
      "metadata": {
        "id": "2RJirc-JzM5o"
      }
    },
    {
      "cell_type": "code",
      "source": [
        "def load_data(file_path):\n",
        "    return pd.read_csv(file_path)"
      ],
      "metadata": {
        "id": "_NqDiZMEiKKW"
      },
      "execution_count": 2,
      "outputs": []
    },
    {
      "cell_type": "code",
      "source": [
        "def normalize_data(data):\n",
        "    scaler = StandardScaler()\n",
        "    data['normalized_amount'] = scaler.fit_transform(data['Amount'].values.reshape(-1, 1))\n",
        "    data.drop(['Time', 'Amount'], axis=1, inplace=True)\n",
        "    return data"
      ],
      "metadata": {
        "id": "RgOv6dh9iLvU"
      },
      "execution_count": 3,
      "outputs": []
    },
    {
      "cell_type": "markdown",
      "source": [
        "2. **Classifier Evaluation:**\n",
        "   - Defines a function `evaluate_classifier()` which evaluates the performance of various classifiers using Confusion Matrix and Classification Report.\n",
        "   - The classifiers evaluated include Logistic Regression, Random Forest, Gaussian Naive Bayes, Decision Trees, K-Nearest Neighbors, and Support Vector Machine (SVM)."
      ],
      "metadata": {
        "id": "vJlY-OuPzRn-"
      }
    },
    {
      "cell_type": "code",
      "source": [
        "def evaluate_classifier(classifier, X_train, y_train, X_test, y_test, name):\n",
        "    classifier.fit(X_train, y_train)\n",
        "    y_pred = classifier.predict(X_test)\n",
        "    print(f\"Classifier: {name}\")\n",
        "    print(\"Confusion Matrix:\\n\", confusion_matrix(y_test, y_pred))\n",
        "    print(\"Classification Report:\\n\", classification_report(y_test, y_pred))\n",
        "\n",
        "    # Use the probability estimates for plotting precision-recall curve\n",
        "    # y_probas = classifier.predict_proba(X_test)\n",
        "    # plot_precision_recall_curve(y_test, y_probas, title='Precision-Recall curve for ' + name)\n",
        "\n",
        "    # plt.show()\n",
        "    return classifier"
      ],
      "metadata": {
        "id": "HdTqt-LXiNYv"
      },
      "execution_count": 4,
      "outputs": []
    },
    {
      "cell_type": "code",
      "source": [
        "\"\"\"\n",
        "def plot_roc_for_all(classifiers, X_test, y_test):\n",
        "    plt.figure()\n",
        "    for name, classifier in classifiers.items():\n",
        "        plot_roc_curve(classifier, X_test, y_test, title=f'ROC curve for {name}')\n",
        "    plt.plot([0, 1], [0, 1], color='navy', lw=2, linestyle='--')  # Random guess line\n",
        "    plt.title('Receiver Operating Characteristic (ROC) curve')\n",
        "    plt.show()\n",
        "\"\"\""
      ],
      "metadata": {
        "colab": {
          "base_uri": "https://localhost:8080/",
          "height": 70
        },
        "id": "Qim_zPP-iPYV",
        "outputId": "7ff4c8d6-c27f-4a15-c9f7-5952a471ab75"
      },
      "execution_count": 5,
      "outputs": [
        {
          "output_type": "execute_result",
          "data": {
            "text/plain": [
              "\"\\ndef plot_roc_for_all(classifiers, X_test, y_test):\\n    plt.figure()\\n    for name, classifier in classifiers.items():\\n        plot_roc_curve(classifier, X_test, y_test, title=f'ROC curve for {name}')\\n    plt.plot([0, 1], [0, 1], color='navy', lw=2, linestyle='--')  # Random guess line\\n    plt.title('Receiver Operating Characteristic (ROC) curve')\\n    plt.show()\\n\""
            ],
            "application/vnd.google.colaboratory.intrinsic+json": {
              "type": "string"
            }
          },
          "metadata": {},
          "execution_count": 5
        }
      ]
    },
    {
      "cell_type": "markdown",
      "source": [
        "3. **Main Function:**\n",
        "   - Loads the dataset from 'creditcard.csv' file and normalizes the data.\n",
        "   - Splits the dataset into training and testing sets using a 80:20 ratio.\n",
        "   - Initializes classifiers with specific hyperparameters.\n",
        "   - Iterates over each classifier, evaluates their performance, and stores the trained classifiers in a dictionary."
      ],
      "metadata": {
        "id": "DrxKe4QnzV7O"
      }
    },
    {
      "cell_type": "code",
      "source": [
        "def main():\n",
        "    # Load the dataset\n",
        "    file_path = '/content/drive/MyDrive/Colab Notebooks/Neuronexus Innovations/NeuroNexus Innovations - Data Science/Credit Card Fraud Detection/creditcard.csv'\n",
        "    data = load_data(file_path)\n",
        "\n",
        "    # Normalization\n",
        "    data = normalize_data(data)\n",
        "\n",
        "    # Dealing with Class Imbalance\n",
        "    X = data.drop('Class', axis=1)\n",
        "    y = data['Class']\n",
        "\n",
        "    # Split the dataset into training and testing sets\n",
        "    X_train, X_test, y_train, y_test = train_test_split(X, y, test_size=0.2, random_state=42)\n",
        "\n",
        "    # Initialize classifiers with hyperparameters\n",
        "    classifiers = {\n",
        "        'Logistic Regression': LogisticRegression(),\n",
        "        'Random Forest': RandomForestClassifier(n_estimators=100),\n",
        "        'Gaussian Naive Bayes': GaussianNB(),\n",
        "        'Decision Tree (Gini)': DecisionTreeClassifier(criterion=\"gini\", max_depth=5),\n",
        "        'Decision Tree (Entropy)': DecisionTreeClassifier(criterion=\"entropy\", max_depth=5),\n",
        "        'KNN': KNeighborsClassifier(n_neighbors=5),\n",
        "        'SVM': SVC(kernel='rbf', probability=True)\n",
        "    }\n",
        "\n",
        "    # Iterate over each classifier and evaluate\n",
        "    trained_classifiers = {}\n",
        "    for name, classifier in classifiers.items():\n",
        "        trained_classifiers[name] = evaluate_classifier(classifier, X_train, y_train, X_test, y_test, name)\n",
        "\n",
        "    # Plotting ROC curve for all classifiers\n",
        "    # plot_roc_for_all(trained_classifiers, X_test, y_test)"
      ],
      "metadata": {
        "id": "q-hQ2LLbiQvW"
      },
      "execution_count": 6,
      "outputs": []
    },
    {
      "cell_type": "markdown",
      "source": [
        "4. **Note:**\n",
        "   - There are commented out sections related to plotting ROC curves and precision-recall curves using scikit-plot and matplotlib, which are not currently used."
      ],
      "metadata": {
        "id": "BJnDQ3KyzbFe"
      }
    },
    {
      "cell_type": "markdown",
      "source": [
        "5. **Execution:**\n",
        "   - Executes the `main()` function when the script is run directly."
      ],
      "metadata": {
        "id": "Uf1V-caizeS-"
      }
    },
    {
      "cell_type": "code",
      "source": [
        "if __name__ == \"__main__\":\n",
        "    main()"
      ],
      "metadata": {
        "colab": {
          "base_uri": "https://localhost:8080/"
        },
        "id": "vv-EgM8ZiTEV",
        "outputId": "5c55b73d-d15d-4332-cb5b-1e4bc6845e12"
      },
      "execution_count": 7,
      "outputs": [
        {
          "output_type": "stream",
          "name": "stdout",
          "text": [
            "Classifier: Logistic Regression\n",
            "Confusion Matrix:\n",
            " [[56855     9]\n",
            " [   41    57]]\n",
            "Classification Report:\n",
            "               precision    recall  f1-score   support\n",
            "\n",
            "           0       1.00      1.00      1.00     56864\n",
            "           1       0.86      0.58      0.70        98\n",
            "\n",
            "    accuracy                           1.00     56962\n",
            "   macro avg       0.93      0.79      0.85     56962\n",
            "weighted avg       1.00      1.00      1.00     56962\n",
            "\n",
            "Classifier: Random Forest\n",
            "Confusion Matrix:\n",
            " [[56862     2]\n",
            " [   20    78]]\n",
            "Classification Report:\n",
            "               precision    recall  f1-score   support\n",
            "\n",
            "           0       1.00      1.00      1.00     56864\n",
            "           1       0.97      0.80      0.88        98\n",
            "\n",
            "    accuracy                           1.00     56962\n",
            "   macro avg       0.99      0.90      0.94     56962\n",
            "weighted avg       1.00      1.00      1.00     56962\n",
            "\n",
            "Classifier: Gaussian Naive Bayes\n",
            "Confusion Matrix:\n",
            " [[55608  1256]\n",
            " [   18    80]]\n",
            "Classification Report:\n",
            "               precision    recall  f1-score   support\n",
            "\n",
            "           0       1.00      0.98      0.99     56864\n",
            "           1       0.06      0.82      0.11        98\n",
            "\n",
            "    accuracy                           0.98     56962\n",
            "   macro avg       0.53      0.90      0.55     56962\n",
            "weighted avg       1.00      0.98      0.99     56962\n",
            "\n",
            "Classifier: Decision Tree (Gini)\n",
            "Confusion Matrix:\n",
            " [[56857     7]\n",
            " [   21    77]]\n",
            "Classification Report:\n",
            "               precision    recall  f1-score   support\n",
            "\n",
            "           0       1.00      1.00      1.00     56864\n",
            "           1       0.92      0.79      0.85        98\n",
            "\n",
            "    accuracy                           1.00     56962\n",
            "   macro avg       0.96      0.89      0.92     56962\n",
            "weighted avg       1.00      1.00      1.00     56962\n",
            "\n",
            "Classifier: Decision Tree (Entropy)\n",
            "Confusion Matrix:\n",
            " [[56860     4]\n",
            " [   31    67]]\n",
            "Classification Report:\n",
            "               precision    recall  f1-score   support\n",
            "\n",
            "           0       1.00      1.00      1.00     56864\n",
            "           1       0.94      0.68      0.79        98\n",
            "\n",
            "    accuracy                           1.00     56962\n",
            "   macro avg       0.97      0.84      0.90     56962\n",
            "weighted avg       1.00      1.00      1.00     56962\n",
            "\n",
            "Classifier: KNN\n",
            "Confusion Matrix:\n",
            " [[56859     5]\n",
            " [   22    76]]\n",
            "Classification Report:\n",
            "               precision    recall  f1-score   support\n",
            "\n",
            "           0       1.00      1.00      1.00     56864\n",
            "           1       0.94      0.78      0.85        98\n",
            "\n",
            "    accuracy                           1.00     56962\n",
            "   macro avg       0.97      0.89      0.92     56962\n",
            "weighted avg       1.00      1.00      1.00     56962\n",
            "\n",
            "Classifier: SVM\n",
            "Confusion Matrix:\n",
            " [[56862     2]\n",
            " [   37    61]]\n",
            "Classification Report:\n",
            "               precision    recall  f1-score   support\n",
            "\n",
            "           0       1.00      1.00      1.00     56864\n",
            "           1       0.97      0.62      0.76        98\n",
            "\n",
            "    accuracy                           1.00     56962\n",
            "   macro avg       0.98      0.81      0.88     56962\n",
            "weighted avg       1.00      1.00      1.00     56962\n",
            "\n"
          ]
        }
      ]
    },
    {
      "cell_type": "markdown",
      "source": [
        "Overall, this script aims to load, preprocess, train, and evaluate the performance of multiple classifiers on a credit card fraud detection dataset from Kaggle."
      ],
      "metadata": {
        "id": "qQA1atBGzggf"
      }
    }
  ]
}